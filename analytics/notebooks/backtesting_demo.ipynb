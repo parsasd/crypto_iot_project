{
 "cells": [
  {
   "cell_type": "markdown",
   "id": "474aaa2a",
   "metadata": {},
   "source": [
    "# Backtesting Demo\n",
    "\n",
    "This notebook demonstrates the indicator and backtesting engine used in the Crypto IoT project.  It fetches historical OHLC data, computes Bollinger Bands and MACD, runs a simple strategy backtest, and surfaces concrete past examples where the combined rule triggered.  This notebook is reproducible and can be run inside the project container."
   ]
  },
  {
   "cell_type": "code",
   "execution_count": null,
   "id": "0c731c70",
   "metadata": {},
   "outputs": [],
   "source": [
    "# Install dependencies if needed (uncomment)\n",
    "# !pip install pandas asyncio httpx ta matplotlib\n"
   ]
  },
  {
   "cell_type": "code",
   "execution_count": null,
   "id": "9f80b113",
   "metadata": {},
   "outputs": [],
   "source": [
    "import asyncio\n",
    "from datetime import datetime, timedelta\n",
    "import pandas as pd\n",
    "from services.indicator_engine_py.core import fetch_ohlc, compute_macd, compute_bollinger, macd_cross_signal, bollinger_signal, combine_signals, backtest_strategy, find_examples\n",
    "\n",
    "# Define the symbol and time range\n",
    "ticker = 'BTCUSDT'\n",
    "interval = '4h'\n",
    "end = datetime.utcnow()\n",
    "start = end - timedelta(days=18*30)  # approx 18 months\n",
    "\n",
    "async def prepare_data():\n",
    "    df = await fetch_ohlc(ticker, interval, start, end)\n",
    "    macd_df = compute_macd(df['close'])\n",
    "    bb_df = compute_bollinger(df['close'])\n",
    "    signal_macd = macd_cross_signal(macd_df['macd'], macd_df['macd_signal'])\n",
    "    signal_bb = bollinger_signal(df['close'], bb_df['bb_lower'], bb_df['bb_upper'])\n",
    "    combined = combine_signals([signal_macd, signal_bb], logic='and')\n",
    "    return df, macd_df, bb_df, combined\n",
    "\n",
    "# Run the preparation\n",
    "loop = asyncio.get_event_loop()\n",
    "df, macd_df, bb_df, signal_series = loop.run_until_complete(prepare_data())\n",
    "\n",
    "print(df.tail())\n",
    "print(signal_series.value_counts())\n"
   ]
  },
  {
   "cell_type": "code",
   "execution_count": null,
   "id": "f8c86796",
   "metadata": {},
   "outputs": [],
   "source": [
    "# Backtest the combined strategy\n",
    "result = backtest_strategy(df, signal_series, initial_capital=10000, fee_pct=0.0005)\n",
    "print('Final PnL:', result.pnl)\n",
    "print('Win rate:', result.win_rate)\n",
    "print('Max drawdown:', result.max_drawdown)\n",
    "print('Sharpe ratio:', result.sharpe)\n"
   ]
  },
  {
   "cell_type": "code",
   "execution_count": null,
   "id": "eb4fb4de",
   "metadata": {},
   "outputs": [],
   "source": [
    "# Find concrete examples\n",
    "examples = find_examples(\n",
    "    df,\n",
    "    signal_series,\n",
    "    indicators={'macd': macd_df, 'bollinger': bb_df},\n",
    "    num_examples=3,\n",
    "    symbol='BTCUSDT',\n",
    "    output_dir='analytics/outputs/examples'\n",
    ")\n",
    "examples\n"
   ]
  },
  {
   "cell_type": "markdown",
   "id": "9faf9064",
   "metadata": {},
   "source": [
    "After running the notebook you will find PNG charts for each example in the `analytics/outputs/examples/` directory.  Each chart shows the price series together with Bollinger Bands and MACD lines, with a vertical magenta line marking the signal bar."
   ]
  },
  {
   "cell_type": "markdown",
   "id": "0a6b664f",
   "metadata": {},
   "source": [
    "## Interpretation\n",
    "\n",
    "The backtest metrics provide a high‑level view of the performance of the strategy.  You should interpret the PnL, win rate, max drawdown and Sharpe ratio in the context of your risk tolerance and trading style.  The example signals illustrate how the combination of Bollinger Bands and MACD crossovers can identify potential reversals or breakouts."
   ]
  }
 ],
 "metadata": {},
 "nbformat": 4,
 "nbformat_minor": 5
}
